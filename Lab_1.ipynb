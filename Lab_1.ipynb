{
 "cells": [
  {
   "cell_type": "markdown",
   "metadata": {},
   "source": [
    "### Лабораторная работа №1"
   ]
  },
  {
   "cell_type": "markdown",
   "metadata": {},
   "source": [
    "1. Напишите скрипт, который преобразует введенное с клавиатуры\n",
    "вещественное число в денежный формат. Например, число 12,5 должно\n",
    "быть преобразовано к виду «12 руб. 50 коп.». В случае ввода\n",
    "отрицательного числа выдайте сообщение «Некорректный формат!»\n",
    "путем обработки исключения в коде."
   ]
  },
  {
   "cell_type": "code",
   "execution_count": 1,
   "metadata": {
    "scrolled": true
   },
   "outputs": [
    {
     "name": "stdout",
     "output_type": "stream",
     "text": [
      "12.5\n",
      "12 руб. 50 коп.\n"
     ]
    }
   ],
   "source": [
    "num = float(input())\n",
    "try:\n",
    "    if num < 0:\n",
    "        raise ValueError('Неккоретный ввод!')\n",
    "except ValueError as er:\n",
    "    print(er)\n",
    "else:\n",
    "    print(f'{int(num)} руб. {round(num%1*100)} коп.')\n"
   ]
  },
  {
   "cell_type": "markdown",
   "metadata": {},
   "source": [
    "2. Написать скрипт, который выводит на экран «True», если элементы\n",
    "программно задаваемого списка представляют собой возрастающую\n",
    "последовательность, иначе – «False»."
   ]
  },
  {
   "cell_type": "code",
   "execution_count": 2,
   "metadata": {
    "scrolled": true
   },
   "outputs": [
    {
     "name": "stdout",
     "output_type": "stream",
     "text": [
      "True\n"
     ]
    }
   ],
   "source": [
    "nums = [1, 4, 7, 10]\n",
    "for i in range(len(nums)-1):\n",
    "    if nums[i] > nums[i+1]:\n",
    "        print(False)\n",
    "        break\n",
    "else:\n",
    "    print(True)\n"
   ]
  },
  {
   "cell_type": "markdown",
   "metadata": {},
   "source": [
    "3. Напишите скрипт, который позволяет ввести с клавиатуры номер\n",
    "дебетовой карты (16 цифр) и выводит номер в скрытом виде: первые и\n",
    "последние 4 цифры отображены нормально, а между ними – символы\n",
    "«*» (например, 5123 **** **** 1212)."
   ]
  },
  {
   "cell_type": "code",
   "execution_count": 3,
   "metadata": {},
   "outputs": [
    {
     "name": "stdout",
     "output_type": "stream",
     "text": [
      "5123456789001212\n",
      "5123 **** **** 1212\n"
     ]
    }
   ],
   "source": [
    "number = int(input())\n",
    "if 1000000000000000 <= number <= 9999999999999999:\n",
    "    number = str(number)\n",
    "    print(f'{number[:4]} **** **** {number[-4:]}')\n",
    "else:\n",
    "\n",
    "    print('Неккоретный ввод!')\n"
   ]
  },
  {
   "cell_type": "markdown",
   "metadata": {},
   "source": [
    "4. Напишите скрипт, который разделяет введенный с клавиатуры текст на\n",
    "слова и выводит сначала те слова, длина которых превосходит 7\n",
    "символов, затем слова размером от 4 до 7 символов, затем – все\n",
    "остальные."
   ]
  },
  {
   "cell_type": "code",
   "execution_count": 4,
   "metadata": {},
   "outputs": [
    {
     "name": "stdout",
     "output_type": "stream",
     "text": [
      "1 22 333 4444 55555 666666 7777777 88888888\n",
      "Слова длиннее 7 символов:\n",
      "88888888\n",
      "Слова от 4 до 7 символов:\n",
      "7777777\n",
      "666666\n",
      "55555\n",
      "4444\n",
      "Слова, короче 4 символов:\n",
      "333\n",
      "22\n",
      "1\n"
     ]
    }
   ],
   "source": [
    "s = input()\n",
    "s = s.split()\n",
    "s = sorted(s, key = len, reverse = True)\n",
    "print('Слова длиннее 7 символов:')\n",
    "for pos in range(0, len(s)):\n",
    "    if len(s[pos]) > 7:\n",
    "        print(s[pos])\n",
    "    else:\n",
    "        break\n",
    "print('Слова от 4 до 7 символов:')\n",
    "for pos in range(pos, len(s)):\n",
    "    if 7 >= len(s[pos]) >= 4:\n",
    "        print(s[pos])\n",
    "    else:\n",
    "        break\n",
    "print('Слова, короче 4 символов:')\n",
    "for pos in range(pos, len(s)):\n",
    "    if len(s[pos]) < 4:\n",
    "        print(s[pos])\n"
   ]
  },
  {
   "cell_type": "markdown",
   "metadata": {},
   "source": [
    "5. Напишите скрипт, который позволяет ввести с клавиатуры текст\n",
    "предложения и сформировать новую строку на основе исходной, в\n",
    "которой все слова, начинающиеся с большой буквы, приведены к\n",
    "верхнему регистру. Слова могут разделяться запятыми или пробелами.\n",
    "Например, если пользователь введет строку «город Донецк, река\n",
    "Кальмиус», результирующая строка должна выглядеть так: «город\n",
    "ДОНЕЦК, река КАЛЬМИУС»."
   ]
  },
  {
   "cell_type": "code",
   "execution_count": 5,
   "metadata": {},
   "outputs": [
    {
     "name": "stdout",
     "output_type": "stream",
     "text": [
      "город Донецк, река Кальмиус\n",
      "город ДОНЕЦК, река КАЛЬМИУС\n"
     ]
    }
   ],
   "source": [
    "s = input()\n",
    "s = s.split()\n",
    "for pos in range(len(s)):\n",
    "    if s[pos].istitle():\n",
    "        s[pos] = s[pos].upper()\n",
    "print(' '.join(s))\n"
   ]
  },
  {
   "cell_type": "markdown",
   "metadata": {},
   "source": [
    "6. Напишите программу, позволяющую ввести с клавиатуры текст\n",
    "предложения и вывести на консоль все символы, которые входят в этот\n",
    "текст ровно по одному разу."
   ]
  },
  {
   "cell_type": "code",
   "execution_count": 6,
   "metadata": {},
   "outputs": [
    {
     "name": "stdout",
     "output_type": "stream",
     "text": [
      "1 22 33 4 55 6 qwert qwe r\n",
      "1\n",
      "4\n",
      "6\n",
      "t\n"
     ]
    }
   ],
   "source": [
    "from collections import Counter\n",
    "s = list(input())\n",
    "s = Counter(s)\n",
    "for item in s.items():\n",
    "    if item[1] == 1:\n",
    "        print(item[0])\n"
   ]
  },
  {
   "cell_type": "markdown",
   "metadata": {},
   "source": [
    "7. Напишите скрипт, который обрабатывает список строк-адресов\n",
    "следующим образом: сначала определяет, начинается ли каждая строка\n",
    "в списке с префикса «www». Если условие выполняется, то скрипт\n",
    "должен вставить в начало этой строки префикс «http://», а затем\n",
    "проверить, что строка заканчивается на «.com». Если у строки другое\n",
    "окончание, то скрипт должен вставить в конец подстроку «.com». В\n",
    "итоге скрипт должен вывести на консоль новый список с измененными\n",
    "адресами. Используйте генераторы списков."
   ]
  },
  {
   "cell_type": "code",
   "execution_count": 7,
   "metadata": {},
   "outputs": [
    {
     "name": "stdout",
     "output_type": "stream",
     "text": [
      "['sdfg.com', '123..com', 'http://www.erty.com', 'ww.123.co.com']\n"
     ]
    }
   ],
   "source": [
    "l = ['sdfg.com', '123.','www.erty','ww.123.co']\n",
    "l = ['http://' + address if address.startswith('www.') else address for address in l ]\n",
    "l = [address + '.com' if not address.endswith('.com') else address for address in l ]\n",
    "print(l)\n"
   ]
  },
  {
   "cell_type": "markdown",
   "metadata": {},
   "source": [
    "8. Напишите скрипт, генерирующий случайным образом число n в\n",
    "диапазоне от 1 до 10000. Скрипт должен создать массив из n целых\n",
    "чисел, также сгенерированных случайным образом, и дополнить\n",
    "массив нулями до размера, равного ближайшей сверху степени двойки.\n",
    "Например, если в массиве было n=100 элементов, то массив нужно\n",
    "дополнить 28 нулями, чтобы в итоге был массив из 28\n",
    "=128 элементов\n",
    "(ближайшая степень двойки к 100 – это число 128, к 35 – это 64 и т.д.)."
   ]
  },
  {
   "cell_type": "code",
   "execution_count": 16,
   "metadata": {},
   "outputs": [
    {
     "name": "stdout",
     "output_type": "stream",
     "text": [
      "3\n",
      "6 8\n",
      "[59, 70, 84, 19, 45, 31, 0, 0]\n"
     ]
    }
   ],
   "source": [
    "from random import randint\n",
    "from math import ceil, log\n",
    "#n = randint(1, 10000)\n",
    "n = 6\n",
    "N = 2 ** (ceil(log(n,2)))\n",
    "print(n.bit_length())\n",
    "m = [ randint(1,100) if i < n else 0 for i in range(N)]\n",
    "print(n, N)\n",
    "print(m)\n"
   ]
  },
  {
   "cell_type": "markdown",
   "metadata": {},
   "source": [
    "9. Напишите программу, имитирующую работу банкомата. Выберите\n",
    "структуру данных для хранения купюр разного достоинства в заданном\n",
    "количестве. При вводе пользователем запрашиваемой суммы денег,\n",
    "скрипт должен вывести на консоль количество купюр подходящего\n",
    "достоинства. Если имеющихся денег не хватает, то необходимо\n",
    "напечатать сообщение «Операция не может быть выполнена!».\n",
    "Например, при сумме 5370 рублей на консоль должно быть выведено\n",
    "«5 * 1000 + 3 * 100 + 1 * 50 + 2 * 10»."
   ]
  },
  {
   "cell_type": "code",
   "execution_count": 9,
   "metadata": {},
   "outputs": [
    {
     "name": "stdout",
     "output_type": "stream",
     "text": [
      "{'5000': 8, '2000': 6, '1000': 7, '500': 7, '200': 9, '100': 6, '50': 8, '10': 9}\n",
      "65390\n",
      "43570\n",
      "5000*8 + 2000*1 + 1000*1 + 500*1 + 50*1 + 10*2\n"
     ]
    }
   ],
   "source": [
    "def count_bills(denomination, withdrawal_amount, bills):\n",
    "    count = bills[denomination]\n",
    "    amt = withdrawal_amount // int(denomination)\n",
    "    if amt > count:\n",
    "        amt = count\n",
    "    withdrawal_amount = withdrawal_amount - amt * int(denomination)\n",
    "    bills[denomination] = bills[denomination] - amt\n",
    "    return withdrawal_amount, amt\n",
    "\n",
    "from random import randint\n",
    "bills = {'5000':0, '2000':0, '1000':0, '500':0, '200':0, '100':0, '50':0, '10':0}\n",
    "for k in bills.keys():\n",
    "    bills[k] = randint(4, 10)\n",
    "print(bills)\n",
    "\n",
    "sum = 0\n",
    "for k, v in bills.items():\n",
    "    sum+= (int(k) * v)\n",
    "print(sum)\n",
    "\n",
    "money = int(input())\n",
    "info = {}\n",
    "for k, v in bills.items():\n",
    "    if money == 0:\n",
    "        break;\n",
    "    money, amt = count_bills(k, money, bills)\n",
    "    info[k]=amt\n",
    "\n",
    "if money == 0:\n",
    "    string = ''\n",
    "    for k, v in info.items():\n",
    "        if v!=0:\n",
    "            string += ' + {}*{}'.format(k,v)\n",
    "    print(string[3::])\n",
    "else:\n",
    "    print('Операция не может быть выполнена!')"
   ]
  },
  {
   "cell_type": "markdown",
   "metadata": {},
   "source": [
    "10. Напишите скрипт, позволяющий определить надежность вводимого\n",
    "пользователем пароля. Это задание является творческим: алгоритм\n",
    "определения надежности разработайте самостоятельно."
   ]
  },
  {
   "cell_type": "code",
   "execution_count": 10,
   "metadata": {
    "scrolled": true
   },
   "outputs": [
    {
     "name": "stdout",
     "output_type": "stream",
     "text": [
      "I_study_at_(D0nNU)\n",
      "Ваш пароль сильный\n"
     ]
    }
   ],
   "source": [
    "s = input()\n",
    "mark = [0, 0, 0, 0]\n",
    "if len(s)<8:\n",
    "    print('Ваш пароль ненадёжный')\n",
    "else:\n",
    "    for char in s:\n",
    "        if char.islower():\n",
    "            mark[0] = 1\n",
    "        elif char.isdigit():\n",
    "            mark[1] = 1\n",
    "        elif char.isupper():\n",
    "            mark[2] = 1\n",
    "        elif char in r'!@#$%^&*()_+|-=\\[]{}:\";\\',.<>/':\n",
    "            mark[3] = 1\n",
    "    mark = mark.count(1) - 1\n",
    "    message = ['ненадёжный', 'слабый', 'средний', 'сильный']\n",
    "    print('Ваш пароль', message[mark])\n"
   ]
  },
  {
   "cell_type": "markdown",
   "metadata": {},
   "source": [
    "11.Напишите генератор frange как аналог range() с дробным шагом.\n",
    "\n",
    "Пример вызова:\n",
    "\n",
    "    for x in frange(1, 5, 0.1):\n",
    "        print(x)\n",
    "        #выводит   1   1.1   1.2   1.3   1.4   …   4.9"
   ]
  },
  {
   "cell_type": "code",
   "execution_count": 11,
   "metadata": {},
   "outputs": [
    {
     "name": "stdout",
     "output_type": "stream",
     "text": [
      "1\n",
      "1.1\n",
      "1.2\n",
      "1.3\n",
      "1.4\n",
      "1.5\n",
      "1.6\n",
      "1.7\n",
      "1.8\n",
      "1.9\n",
      "2.0\n",
      "2.1\n",
      "2.2\n",
      "2.3\n",
      "2.4\n",
      "2.5\n",
      "2.6\n",
      "2.7\n",
      "2.8\n",
      "2.9\n",
      "3.0\n",
      "3.1\n",
      "3.2\n",
      "3.3\n",
      "3.4\n",
      "3.5\n",
      "3.6\n",
      "3.7\n",
      "3.8\n",
      "3.9\n",
      "4.0\n",
      "4.1\n",
      "4.2\n",
      "4.3\n",
      "4.4\n",
      "4.5\n",
      "4.6\n",
      "4.7\n",
      "4.8\n",
      "4.9\n"
     ]
    }
   ],
   "source": [
    "def frange(start, stop, step = 0.1):\n",
    "    while start < stop - 0.00000001:\n",
    "        yield round(start, 5)\n",
    "        start+=step\n",
    "\n",
    "for x in frange(1, 5, 0.1):\n",
    "    print(x)\n"
   ]
  },
  {
   "cell_type": "markdown",
   "metadata": {},
   "source": [
    "12. Напишите генератор get_frames(), который производит «оконную\n",
    "декомпозицию» сигнала: на основе входного списка генерирует набор\n",
    "списков – перекрывающихся отдельных фрагментов сигнала размера\n",
    "size со степенью перекрытия overlap. Пример вызова:\n",
    "\n",
    "    for frame in get_frames(signal, size=1024, overlap=0.5):\n",
    "        print(frame)\n"
   ]
  },
  {
   "cell_type": "code",
   "execution_count": 12,
   "metadata": {},
   "outputs": [
    {
     "name": "stdout",
     "output_type": "stream",
     "text": [
      "[1, 2, 3, 4]\n",
      "[3, 4, 5, 6]\n",
      "[5, 6, 7, 8]\n",
      "[7, 8, 9, 10]\n",
      "[9, 10, 11, 12]\n",
      "[11, 12]\n"
     ]
    }
   ],
   "source": [
    "from math import ceil\n",
    "def get_frames(signal, size, overlap):\n",
    "    part_signal = ceil(size * overlap)\n",
    "    start = 0\n",
    "    while(start < len(signal)):\n",
    "        yield signal[start:start+size]\n",
    "        start += part_signal\n",
    "        \n",
    "signal = [1, 2, 3, 4, 5, 6, 7, 8, 9, 10, 11, 12]\n",
    "for frame in get_frames(signal, size=4, overlap=0.5):\n",
    "    print(frame)\n"
   ]
  },
  {
   "cell_type": "markdown",
   "metadata": {},
   "source": [
    "13. Напишите собственную версию генератора enumerate под названием extra_enumerate. \n",
    "Пример вызова:\n",
    "\n",
    "    for i, elem, cum, frac in extra_enumerate(x):\n",
    "         print(elem, cum, frac)\n",
    "\n",
    "В переменной cum хранится накопленная сумма на момент текущей итерации, в переменной frac – доля накопленной суммы от общей суммы на момент текущей итерации. Например, для списка x=[1,3,4,2] вывод будет таким:\n",
    "     \n",
    "     (1, 1, 0.1)   (3, 4, 0.4)   (4, 8, 0.8)   (2, 10, 1)"
   ]
  },
  {
   "cell_type": "code",
   "execution_count": 13,
   "metadata": {},
   "outputs": [
    {
     "name": "stdout",
     "output_type": "stream",
     "text": [
      "1 1 0.1\n",
      "3 4 0.4\n",
      "4 8 0.8\n",
      "2 10 1.0\n"
     ]
    }
   ],
   "source": [
    "def extra_enumerate(lst):\n",
    "    cum = lst[0]\n",
    "    frac = lst[0] / 10\n",
    "    for i in range(0, len(lst)):\n",
    "        yield i, lst[i], cum, frac\n",
    "        if(i + 1 != len(lst)):\n",
    "            cum += lst[i + 1]\n",
    "            frac += lst[i + 1] / 10\n",
    "        \n",
    "x = [1,3,4,2]\n",
    "for i, elem, cum, frac in extra_enumerate(x):\n",
    "    print(elem, cum, frac)\n",
    "    "
   ]
  },
  {
   "cell_type": "markdown",
   "metadata": {},
   "source": [
    "14. Напишите декоратор non_empty, который дополнительно проверяет\n",
    "списковый результат любой функции: если в нем содержатся пустые\n",
    "строки или значение None, то они удаляются. Пример кода:\n",
    "    \n",
    "    @non_empty\n",
    "        def get_pages():\n",
    "             return ['chapter1', '', 'contents', '', 'line1']"
   ]
  },
  {
   "cell_type": "code",
   "execution_count": 14,
   "metadata": {},
   "outputs": [
    {
     "name": "stdout",
     "output_type": "stream",
     "text": [
      "['chapter1', 'contents', 'line1']\n"
     ]
    }
   ],
   "source": [
    "def non_empty(lst):\n",
    "    def wrapper():\n",
    "        return [x for x in lst() if not x == '' and x is not None]\n",
    "    return wrapper\n",
    "\n",
    "@non_empty\n",
    "def get_pages():\n",
    "    return ['chapter1', '', 'contents', '', 'line1', None]\n",
    "\n",
    "print(get_pages())\n"
   ]
  },
  {
   "cell_type": "markdown",
   "metadata": {},
   "source": [
    "15. Напишите параметризированный декоратор pre_process, который\n",
    "осуществляет предварительную обработку (цифровую фильтрацию)\n",
    "списка по алгоритму: s[i] = s[i]–a∙s[i–1]. Параметр а можно задать в\n",
    "коде (по умолчанию равен 0.97). Пример кода:\n",
    "\n",
    "        @pre_process(a=0.93)\n",
    "        def plot_signal(s):\n",
    "            for sample in s:\n",
    "            print(sample)"
   ]
  },
  {
   "cell_type": "code",
   "execution_count": 15,
   "metadata": {},
   "outputs": [
    {
     "name": "stdout",
     "output_type": "stream",
     "text": [
      "-7.37\n",
      "2.07\n",
      "2.21\n",
      "2.35\n",
      "2.49\n"
     ]
    }
   ],
   "source": [
    "def pre_process(a=0.97):\n",
    "    def wrapper(def_):\n",
    "        def inner_wrapper(lst):\n",
    "            res = []\n",
    "            for i in range(len(lst)):\n",
    "                res.append(round(lst[i] - a * lst[i-1], 2))\n",
    "            def_(res)\n",
    "        return inner_wrapper\n",
    "    return wrapper\n",
    "\n",
    "\n",
    "@pre_process(a=0.93)\n",
    "def plot_signal(s_):\n",
    "    for sample in s_:\n",
    "        print(sample)\n",
    "\n",
    "        \n",
    "s = [1, 3, 5, 7, 9]        \n",
    "plot_signal(s)"
   ]
  },
  {
   "cell_type": "markdown",
   "metadata": {},
   "source": [
    "16. Напишите скрипт, который на основе списка из 16 названий\n",
    "футбольных команд случайным образом формирует 4 группы по 4\n",
    "команды, а также выводит на консоль календарь всех игр (игры\n",
    "должны проходить по средам, раз в 2 недели, начиная с 14 сентября\n",
    "текущего года). Даты игр необходимо выводить в формате «14/09/2016,\n",
    "22:45». Используйте модули random и itertools."
   ]
  },
  {
   "cell_type": "code",
   "execution_count": 16,
   "metadata": {},
   "outputs": [
    {
     "name": "stdout",
     "output_type": "stream",
     "text": [
      "GROUP A:\n",
      "Germany - Ukraine - 15/09/2021, 15:30\n",
      "Germany - Russia - 30/09/2021, 13:55\n",
      "Germany - Italy - 14/10/2021, 23:05\n",
      "Ukraine - Russia - 29/10/2021, 20:55\n",
      "Ukraine - Italy - 13/11/2021, 13:20\n",
      "Russia - Italy - 28/11/2021, 09:05\n",
      "GROUP B:\n",
      "England - France - 12/12/2021, 18:15\n",
      "England - Argentina - 27/12/2021, 09:25\n",
      "England - Denmark - 11/01/2022, 05:45\n",
      "France - Argentina - 26/01/2022, 02:50\n",
      "France - Denmark - 09/02/2022, 19:55\n",
      "Argentina - Denmark - 24/02/2022, 08:50\n",
      "GROUP C:\n",
      "Uruguay - Brazil - 11/03/2022, 07:15\n",
      "Uruguay - Mexico - 25/03/2022, 23:55\n",
      "Uruguay - Belgium - 09/04/2022, 16:25\n",
      "Brazil - Mexico - 24/04/2022, 09:35\n",
      "Brazil - Belgium - 09/05/2022, 08:05\n",
      "Mexico - Belgium - 24/05/2022, 01:00\n",
      "GROUP D:\n",
      "Croatia - Spain - 07/06/2022, 14:00\n",
      "Croatia - Portugal - 22/06/2022, 03:35\n",
      "Croatia - Poland - 06/07/2022, 19:20\n",
      "Spain - Portugal - 21/07/2022, 08:20\n",
      "Spain - Poland - 04/08/2022, 18:00\n",
      "Portugal - Poland - 19/08/2022, 17:00\n"
     ]
    }
   ],
   "source": [
    "import random\n",
    "import itertools\n",
    "import datetime \n",
    "\n",
    "teams = ['Ukraine', 'Russia', 'Croatia', 'Poland', 'Belgium', 'France', 'Brazil', 'England',\n",
    "         'Portugal', 'Spain', 'Argentina', 'Uruguay', 'Mexico', 'Italy', 'Denmark', 'Germany']\n",
    "random.shuffle(teams)\n",
    "groups = [teams[s:s+4] for s in range(0, len(teams), 4)]\n",
    "time = datetime.datetime(2021, 9, 15, 15, 30, 1)\n",
    "\n",
    "for i, teams in enumerate(groups):\n",
    "    print(f'GROUP {chr(i + 65)}:')\n",
    "    for team in itertools.combinations(teams, 2):\n",
    "        print(' - '.join(team) + ' - ' + time.strftime('%d/%m/%Y, %H:%M'))\n",
    "        time += datetime.timedelta(days=14, hours=random.randrange(9, 24), minutes=random.randrange(0, 60, 5))\n",
    "        "
   ]
  }
 ],
 "metadata": {
  "kernelspec": {
   "display_name": "Python 3",
   "language": "python",
   "name": "python3"
  },
  "language_info": {
   "codemirror_mode": {
    "name": "ipython",
    "version": 3
   },
   "file_extension": ".py",
   "mimetype": "text/x-python",
   "name": "python",
   "nbconvert_exporter": "python",
   "pygments_lexer": "ipython3",
   "version": "3.8.5"
  }
 },
 "nbformat": 4,
 "nbformat_minor": 4
}
