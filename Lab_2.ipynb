{
 "cells": [
  {
   "cell_type": "markdown",
   "metadata": {},
   "source": [
    "### Лабораторная работа №2"
   ]
  },
  {
   "cell_type": "markdown",
   "metadata": {},
   "source": [
    "1. Напишите скрипт, который читает текстовый файл и выводит символы\n",
    "в порядке убывания частоты встречаемости в тексте. Регистр символа\n",
    "не имеет значения. Программа должна учитывать только буквенные\n",
    "символы (символы пунктуации, цифры и служебные символы слудет\n",
    "игнорировать). Проверьте работу скрипта на нескольких файлах с\n",
    "текстом на английском и русском языках, сравните результаты с\n",
    "таблицами, приведенными в wikipedia.org/wiki/Letter_frequencies."
   ]
  },
  {
   "cell_type": "code",
   "execution_count": 1,
   "metadata": {},
   "outputs": [
    {
     "name": "stdout",
     "output_type": "stream",
     "text": [
      "о : 22888 10.949\n",
      "е : 17776  8.504\n",
      "а : 17346  8.298\n",
      "н : 13901  6.650\n",
      "и : 13076  6.255\n",
      "т : 12469  5.965\n",
      "с : 10704  5.121\n",
      "л : 10447  4.998\n",
      "р :  8710  4.167\n",
      "в :  8615  4.121\n",
      "к :  7584  3.628\n",
      "м :  6739  3.224\n",
      "д :  6500  3.109\n",
      "у :  6318  3.022\n",
      "п :  5407  2.587\n",
      "я :  5289  2.530\n",
      "ь :  4188  2.003\n",
      "ы :  4001  1.914\n",
      "г :  3872  1.852\n",
      "з :  3802  1.819\n",
      "б :  3726  1.782\n",
      "ч :  3710  1.775\n",
      "й :  2370  1.134\n",
      "ж :  2311  1.106\n",
      "ш :  1936  0.926\n",
      "х :  1699  0.813\n",
      "ю :  1517  0.726\n",
      "ц :   745  0.356\n",
      "э :   601  0.288\n",
      "щ :   573  0.274\n",
      "ф :   148  0.071\n",
      "ъ :    70  0.033\n"
     ]
    }
   ],
   "source": [
    "from collections import Counter\n",
    "text_file = r'data\\ru.txt'\n",
    "if 'ru' in text_file:\n",
    "    l = 1072\n",
    "    r = 1103\n",
    "else:\n",
    "    l = 97\n",
    "    r = 122\n",
    "try:\n",
    "    with open(text_file, 'rt') as f:\n",
    "        text = f.read().lower()\n",
    "except IOError as err:\n",
    "    print(err)\n",
    "    text = []\n",
    "letters = [x for x in text if x.isalpha() and l <= ord(x) <= r] \n",
    "letters = Counter(letters)\n",
    "letters = {k: letters[k] for k in sorted(letters, key=letters.get, reverse=True)}\n",
    "_100 = sum(letters.values())/100\n",
    "for letter, value in letters.items():\n",
    "    print(f\"{letter} : {value:5} {round(value/_100,3):6.3f}\")\n"
   ]
  },
  {
   "cell_type": "markdown",
   "metadata": {},
   "source": [
    "2. Напишите скрипт, позволяющий искать в заданной директории и в ее\n",
    "подпапках файлы-дубликаты на основе сравнения контрольных сумм\n",
    "(MD5). Файлы могут иметь одинаковое содержимое, но отличаться\n",
    "именами. Скрипт должен вывести группы имен обнаруженных файлов дубликатов. "
   ]
  },
  {
   "cell_type": "code",
   "execution_count": 2,
   "metadata": {},
   "outputs": [
    {
     "name": "stdout",
     "output_type": "stream",
     "text": [
      "data\n",
      "data\\png — копия\\upload-1.png            bb11a903655c29254d531c1784d05577\n",
      "data\\png\\upload-1.png                    bb11a903655c29254d531c1784d05577\n",
      "data\\png\\avatar.png                      7667cdbf9f576278551cac63268d3760\n",
      "data\\png — копия\\avatar.png              7667cdbf9f576278551cac63268d3760\n",
      "data\\avatar.png                          7667cdbf9f576278551cac63268d3760\n",
      "data\\png — копия\\speaker.png             723f8d739e72fbb4b2eb852bfec3c9cc\n",
      "data\\png\\speaker.png                     723f8d739e72fbb4b2eb852bfec3c9cc\n",
      "data\\png — копия\\star.png                6bf90f168928e3171031349f5e23f197\n",
      "data\\png\\star.png                        6bf90f168928e3171031349f5e23f197\n",
      "data\\png — копия\\vector.png              67a672b71dc59290862b2c1b6ae0a90a\n",
      "data\\png\\vector.png                      67a672b71dc59290862b2c1b6ae0a90a\n",
      "data\\png — копия\\upload.png              6641f3af429c8acf7d51e2782739af62\n",
      "data\\png\\upload.png                      6641f3af429c8acf7d51e2782739af62\n",
      "data\\png — копия\\tag.png                 626c07f5b4195186bdf5c76ba9c356c7\n",
      "data\\png\\tag.png                         626c07f5b4195186bdf5c76ba9c356c7\n"
     ]
    }
   ],
   "source": [
    "import hashlib\n",
    "import os\n",
    "\n",
    "def md5(fname):\n",
    "    hash_md5 = hashlib.md5()\n",
    "    with open(fname, \"rb\") as f:\n",
    "        for chunk in iter(lambda: f.read(4096), b\"\"):\n",
    "            hash_md5.update(chunk)\n",
    "    return str(hash_md5.hexdigest())\n",
    "\n",
    "folder = input()\n",
    "files_ = []\n",
    "for root, dirs, files in os.walk(folder):\n",
    "    dirs[:] = [d for d in dirs if not d[0] == '.']\n",
    "    for file in files:\n",
    "        files_.append(os.path.join(root, file))\n",
    "\n",
    "files_ = {file: md5(file) for file in files_}\n",
    "files_ = {k: files_[k] for k in sorted(files_, key=files_.get, reverse=True)}\n",
    "\n",
    "checked_files = []\n",
    "for file, value in files_.items():\n",
    "    for f, v in files_.items():\n",
    "        if files_[f]==files_[file] and f !=file and not f in checked_files:\n",
    "            print(f'{f:40}',files_[f])\n",
    "            checked_files.append(f)\n",
    "    "
   ]
  },
  {
   "cell_type": "markdown",
   "metadata": {},
   "source": [
    "3. Задан путь к директории с музыкальными файлами (в названии\n",
    "которых нет номеров, а только названия песен) и текстовый файл,\n",
    "хранящий полный список песен с номерами и названиями в виде строк\n",
    "формата «01. Freefall [6:12]». Напишите скрипт, который корректирует\n",
    "имена файлов в директории на основе текста списка песен."
   ]
  },
  {
   "cell_type": "code",
   "execution_count": 3,
   "metadata": {},
   "outputs": [],
   "source": [
    "import os\n",
    "\n",
    "folder = (os.path.join(r'data',r'Linkin Park - Meteora'))\n",
    "try:\n",
    "    with open(os.path.join(folder, r'music.txt'), 'rt') as music:\n",
    "        text = music.readlines()    \n",
    "except IOError as err:\n",
    "    print(err)\n",
    "    text = []\n",
    "text = list(map(lambda x : x.rstrip(), text))\n",
    "for root, dirs, files in os.walk(folder):\n",
    "    for file in files:\n",
    "        if '.mp3' in file:\n",
    "            '''sss'''\n",
    "            #os.rename(os.path.join(root,file),(os.path.join(root,file[4:-12]+'.mp3')))\n",
    "        for x in range(len(text)):\n",
    "            if file[:-4] in text[x]:\n",
    "                os.rename(os.path.join(root, file),os.path.join(root,text[x]))\n",
    "                continue\n"
   ]
  },
  {
   "cell_type": "markdown",
   "metadata": {},
   "source": [
    "4. Напишите скрипт, который позволяет ввести с клавиатуры имя\n",
    "текстового файла, найти в нем с помощью регулярных выражений все\n",
    "подстроки определенного вида, в соответствии с вариантом. Например,\n",
    "для варианта № 1 скрипт должен вывести на экран следующее:\n",
    "\n",
    "    Строка 3, позиция 10 : найдено '11-05-2014'\n",
    "    \n",
    "    Строка 12, позиция 2 : найдено '23-11-2014'\n",
    "    \n",
    "    Строка 12, позиция 17 : найдено '23-11-2014'\n",
    "\n",
    "\n",
    "    Вариант 7: найдите все «смайлы» – подстроки вида «:)», «:-)», «)))»(количество скобок может быть любым, начиная с 1)."
   ]
  },
  {
   "cell_type": "code",
   "execution_count": 4,
   "metadata": {},
   "outputs": [
    {
     "name": "stdout",
     "output_type": "stream",
     "text": [
      "data/smiles.txt\n",
      "Строка  1, позиция 24: найдено '))'\n",
      "Строка  4, позиция 24: найдено ':))))'\n",
      "Строка  8, позиция 16: найдено ':-)))))'\n",
      "Строка  8, позиция 25: найдено '))))'\n",
      "Строка 14, позиция 16: найдено ':-)'\n"
     ]
    }
   ],
   "source": [
    "import re\n",
    "import os\n",
    "filename = input()\n",
    "file = os.path.join(os.getcwd(), filename)\n",
    "line_number = 1\n",
    "with open(file) as f:\n",
    "    for line in f.readlines():\n",
    "        iterat = re.finditer(r':?-?\\)+', line)\n",
    "        for x in iterat:\n",
    "            print(f'Строка {line_number:2}, позиция {x.start():2}: найдено \\'{x.group():2}\\'')\n",
    "        line_number+=1"
   ]
  },
  {
   "cell_type": "markdown",
   "metadata": {},
   "source": [
    "5. Введите с клавиатуры текст. Программно найдите в нем и выведите\n",
    "отдельно все слова, которые начинаются с большого латинского\n",
    "символа (от A до Z) и заканчиваются 2 или 4 цифрами, например\n",
    "«Petr93», «Johnny70», «Service2002». Используйте регулярные\n",
    "выражения."
   ]
  },
  {
   "cell_type": "code",
   "execution_count": 5,
   "metadata": {},
   "outputs": [
    {
     "name": "stdout",
     "output_type": "stream",
     "text": [
      "Kfsdsdf234 Kfsdsdf23 Kfsdsdf2343 Kfsdsdf234))) ))) Kfsdsdf23 \n",
      "['Kfsdsdf23', 'Kfsdsdf2343', 'Kfsdsdf23']\n"
     ]
    }
   ],
   "source": [
    "import re\n",
    "text = input()\n",
    "print(re.findall(r'[A-Z][a-z]+[0-9]{4}\\b|[A-Z][a-z]+[0-9]{2}\\b', text))"
   ]
  },
  {
   "cell_type": "markdown",
   "metadata": {},
   "source": [
    "6. Напишите скрипт reorganize.py, который в директории --source создает\n",
    "две директории: Archive и Small. В первую директорию помещаются\n",
    "файлы с датой изменения, отличающейся от текущей даты на\n",
    "количество дней более параметра --days (т.е. относительно старые\n",
    "файлы). Во вторую – все файлы размером меньше параметра --size байт.\n",
    "Каждая директория должна создаваться только в случае, если найден\n",
    "хотя бы один файл, который должен быть в нее помещен. Пример\n",
    "вызова:\n",
    "     \n",
    "     reorganize --source \"C:\\TestDir\" --days 2 --size 4096"
   ]
  },
  {
   "cell_type": "code",
   "execution_count": 6,
   "metadata": {},
   "outputs": [],
   "source": [
    "%run reorganize.py --source \"C:\\\\Users\\\\Андрей\\\\Desktop\\\\datatest\" --days 4 --size 1000000"
   ]
  },
  {
   "cell_type": "code",
   "execution_count": 6,
   "metadata": {},
   "outputs": [
    {
     "name": "stdout",
     "output_type": "stream",
     "text": [
      "import argparse\n",
      "import sys\n",
      "import os\n",
      "import time\n",
      "import shutil\n",
      "\n",
      "def check_arg(args=None):\n",
      "\n",
      "    parser = argparse.ArgumentParser(\n",
      "        description='File sorting script')\n",
      "\n",
      "    parser.add_argument('-S', '--source',\n",
      "                        help='source folder',\n",
      "                        default='New folder')\n",
      "    parser.add_argument('-d', '--days',\n",
      "                        help='number of days since the last change, more than which the files will be placed in the \"Archive\" folder',\n",
      "                        default='2')\n",
      "    parser.add_argument('-s', '--size',\n",
      "                        help='file size in bytes, less than which they will be placed in the \"Small\" folder',\n",
      "                        default='4096')\n",
      "\n",
      "    parsed = parser.parse_args(args)\n",
      "    return parsed.source, parsed.days, parsed.size\n",
      "\n",
      "if __name__ == '__main__':\n",
      "    source, days, size = check_arg(sys.argv[1:])\n",
      "    small_files = []\n",
      "    old_files = []\n",
      "    if os.path.isdir(source):\n",
      "        files = [file for file in os.listdir(source) if os.path.isfile(os.path.join(source,file))]\n",
      "        path_small = os.path.join(source, 'Small')\n",
      "        path_archive = os.path.join(source, 'Archive')\n",
      "        for file_ in files:\n",
      "            path = os.path.join(source, file_)\n",
      "            if os.path.getsize(path) < int(size):\n",
      "                if not(os.path.exists(path_small)):\n",
      "                    os.mkdir(path_small)\n",
      "                small_files.append(path)\n",
      "                shutil.copy(path, os.path.join(path_small, file_))\n",
      "            if (time.time()-os.path.getmtime(path))/(86400*int(days)) > int(days):\n",
      "                if not(os.path.exists(path_archive)):\n",
      "                    os.mkdir(path_archive)\n",
      "                old_files.append(path)\n",
      "                shutil.copy(path, os.path.join(path_archive, file_))\n",
      "        files_to_delete = list(set(small_files + old_files))\n",
      "        for file_ in files_to_delete:\n",
      "            os.remove(file_)\n"
     ]
    }
   ],
   "source": [
    "script = open(r'reorganize.py', 'rt')\n",
    "\n",
    "for codeline in script:\n",
    "    print(codeline.rstrip())"
   ]
  }
 ],
 "metadata": {
  "kernelspec": {
   "display_name": "Python 3",
   "language": "python",
   "name": "python3"
  },
  "language_info": {
   "codemirror_mode": {
    "name": "ipython",
    "version": 3
   },
   "file_extension": ".py",
   "mimetype": "text/x-python",
   "name": "python",
   "nbconvert_exporter": "python",
   "pygments_lexer": "ipython3",
   "version": "3.8.5"
  }
 },
 "nbformat": 4,
 "nbformat_minor": 4
}
